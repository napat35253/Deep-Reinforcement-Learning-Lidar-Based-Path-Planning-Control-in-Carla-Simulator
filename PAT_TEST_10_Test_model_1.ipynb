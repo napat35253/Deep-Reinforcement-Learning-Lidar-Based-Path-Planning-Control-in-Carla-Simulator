{
 "cells": [
  {
   "cell_type": "markdown",
   "metadata": {
    "heading_collapsed": true
   },
   "source": [
    "# Import"
   ]
  },
  {
   "cell_type": "code",
   "execution_count": 1,
   "metadata": {
    "hidden": true
   },
   "outputs": [
    {
     "name": "stderr",
     "output_type": "stream",
     "text": [
      "Using TensorFlow backend.\n"
     ]
    },
    {
     "name": "stdout",
     "output_type": "stream",
     "text": [
      "IMPORT DONE\n"
     ]
    }
   ],
   "source": [
    "import glob\n",
    "import os\n",
    "import sys\n",
    "import random\n",
    "import time\n",
    "import numpy as np\n",
    "import cv2\n",
    "import math\n",
    "from collections import deque\n",
    "from keras.models import Sequential\n",
    "from keras.applications.xception import Xception\n",
    "from keras.layers import Dense, GlobalAveragePooling2D\n",
    "from keras.optimizers import Adam\n",
    "from keras.models import Model\n",
    "from keras.models import model_from_json\n",
    "import pandas as pd\n",
    "from plotnine import *\n",
    "#from keras.callbacks import TensorBoard\n",
    "\n",
    "import tensorflow as tf\n",
    "import keras.backend.tensorflow_backend as backend\n",
    "from threading import Thread\n",
    "from tqdm import tqdm_notebook as tqdm\n",
    "\n",
    "try:\n",
    "    sys.path.append(glob.glob('../carla/dist/carla-*%d.%d-%s.egg' % (\n",
    "        sys.version_info.major,\n",
    "        sys.version_info.minor,\n",
    "        'win-amd64' if os.name == 'nt' else 'linux-x86_64'))[0])\n",
    "except IndexError:\n",
    "    pass\n",
    "import carla\n",
    "print('IMPORT DONE')"
   ]
  },
  {
   "cell_type": "markdown",
   "metadata": {},
   "source": [
    "# Carla Env"
   ]
  },
  {
   "cell_type": "code",
   "execution_count": 2,
   "metadata": {},
   "outputs": [],
   "source": [
    "class CarEnv:\n",
    "    global town\n",
    "    #BRAKE_AMT = 1.0\n",
    "    actor_list = []\n",
    "    collision_hist = []\n",
    "    pt_cloud = []\n",
    "    pt_cloud_filtered = []\n",
    "    \n",
    "    def __init__(self):\n",
    "        self.client = carla.Client('localhost', 2000)\n",
    "        self.client.set_timeout(2.0)\n",
    "        world = self.client.load_world(town)\n",
    "        self.world = self.client.get_world()\n",
    "        blueprint_library = self.world.get_blueprint_library()\n",
    "        self.model_3 = blueprint_library.filter('model3')[0]\n",
    "        self.truck_2 = blueprint_library.filter('carlamotors')[0]\n",
    "        self.place=0\n",
    "        \n",
    "    def Black_screen(self):\n",
    "        settings = self.world.get_settings()\n",
    "        settings.no_rendering_mode = True\n",
    "        self.world.apply_settings(settings)\n",
    "    \n",
    "    def set_location(self,x,y):\n",
    "        \n",
    "        self.lo_x,self.lo_y=x,y\n",
    "        self.place=x,y\n",
    "        \n",
    "                     \n",
    "    def reset(self):\n",
    "        self.collision_hist = []\n",
    "        self.actor_list = []\n",
    "        self.pt_cloud = []\n",
    "        self.pt_cloud_filtered = []\n",
    "        ##print('Location: ',str(place))\n",
    "        #transform = carla.Transform(carla.Location(-120,place,3),carla.Rotation(0,-90,0))\n",
    "        if self.place == 0:\n",
    "            transform = carla.Transform(carla.Location(246,-36,3),carla.Rotation(0,-90,0))  \n",
    "        else :\n",
    "            transform = carla.Transform(carla.Location(self.lo_x,self.lo_y),carla.Rotation(0,-90,0))  \n",
    "            \n",
    "        self.flag = 0\n",
    "        self.vehicle = self.world.spawn_actor(self.model_3, transform)\n",
    "        self.flag = 1\n",
    "        \n",
    "        self.actor_list.append(self.vehicle)\n",
    "     \n",
    "\n",
    "        self.lidar_sensor = self.world.get_blueprint_library().find('sensor.lidar.ray_cast')\n",
    "        self.lidar_sensor.set_attribute('points_per_second', '100000')\n",
    "        self.lidar_sensor.set_attribute('channels', '32')\n",
    "        self.lidar_sensor.set_attribute('range', '10000')\n",
    "        self.lidar_sensor.set_attribute('upper_fov', '10')\n",
    "        self.lidar_sensor.set_attribute('lower_fov', '-10')\n",
    "        self.lidar_sensor.set_attribute('rotation_frequency', '60')\n",
    "        \n",
    "        transform = carla.Transform(carla.Location(x=0, z=1.9))\n",
    "        time.sleep(0.01)\n",
    "\n",
    "        self.sensor = self.world.spawn_actor(self.lidar_sensor, transform, attach_to=self.vehicle)\n",
    "     \n",
    "        self.actor_list.append(self.sensor)\n",
    "        self.sensor.listen(lambda data: self.process_lidar(data))\n",
    "\n",
    "        self.vehicle.apply_control(carla.VehicleControl(throttle=0, brake=0.0))\n",
    "        self.episode_start = time.time()\n",
    "   \n",
    "        time.sleep(0.4) # sleep to get things started and to not detect a collision when the car spawns/falls from sky.\n",
    "        \n",
    "        transform2 = carla.Transform(carla.Location(x=2.5, z=0.7))\n",
    "        colsensor = self.world.get_blueprint_library().find('sensor.other.collision')\n",
    "        self.colsensor = self.world.spawn_actor(colsensor, transform2, attach_to=self.vehicle)\n",
    "        self.actor_list.append(self.colsensor)\n",
    "        self.colsensor.listen(lambda event: self.collision_data(event))\n",
    "\n",
    "        while self.distance_to_obstacle_f is None:\n",
    "            time.sleep(0.01)\n",
    "\n",
    "        self.episode_start = time.time()\n",
    "        \n",
    "        self.vehicle.apply_control(carla.VehicleControl(throttle=0, brake=0.0))\n",
    "        \n",
    "        ##SENSOR LIDAR\n",
    "        xx = self.distance_to_obstacle_f\n",
    "        yy = self.distance_to_obstacle_r\n",
    "        zz = self.distance_to_obstacle_l\n",
    "        state_=np.array([xx,yy,zz])\n",
    "        \n",
    "        return state_\n",
    "\n",
    "    def collision_data(self, event):\n",
    "        self.collision_hist.append(event)\n",
    "\n",
    "    def process_lidar(self, raw):\n",
    "        points = np.frombuffer(raw.raw_data, dtype=np.dtype('f4'))\n",
    "        points = np.reshape(points, (int(points.shape[0] / 3), 3))*np.array([1,-1,-1])\n",
    "        \n",
    "        lidar_f = lidar_line(points,90,2)\n",
    "        lidar_r = lidar_line(points,45,2)\n",
    "        lidar_l = lidar_line(points,135,2)\n",
    "\n",
    "        if len(lidar_f) == 0:\n",
    "            pass\n",
    "        else:\n",
    "            self.distance_to_obstacle_f = min(lidar_f[:,1])-2.247148275375366\n",
    "        \n",
    "        if len(lidar_r) == 0:\n",
    "            pass\n",
    "        else:\n",
    "            self.distance_to_obstacle_r = np.sqrt(min(lidar_r[:,0]**2 + lidar_r[:,1]**2))\n",
    "        \n",
    "        if len(lidar_l) == 0:\n",
    "            pass\n",
    "        else:\n",
    "            self.distance_to_obstacle_l = np.sqrt(min(lidar_l[:,0]**2 + lidar_l[:,1]**2))\n",
    "    \n",
    "\n",
    "    def step(self, action):\n",
    "        global sleepy,steer_amt\n",
    "        \n",
    "        \n",
    "        if action == 0:\n",
    "            self.vehicle.apply_control(carla.VehicleControl(throttle=1.0, brake=0.0, steer = steer_amt))\n",
    "            time.sleep(sleepy)\n",
    "            reward = 1\n",
    "        elif action == 1:\n",
    "            self.vehicle.apply_control(carla.VehicleControl(throttle=1.0, brake=0.0, steer = -steer_amt))\n",
    "            time.sleep(sleepy)\n",
    "            reward = 1       \n",
    "\n",
    "        \n",
    "        if len(self.collision_hist) != 0:\n",
    "            done = True\n",
    "        else :\n",
    "            done=False\n",
    "            \n",
    "        if self.episode_start + SECONDS_PER_EPISODE < time.time():\n",
    "            done = True\n",
    "            \n",
    "        xx = self.distance_to_obstacle_f\n",
    "        yy = self.distance_to_obstacle_r\n",
    "        zz = self.distance_to_obstacle_l\n",
    "        state_=np.array([xx,yy,zz])\n",
    "            \n",
    "        return state_, reward, done, None\n",
    "    \n",
    "    def test_step_steer(self,steer,sleepy):\n",
    "        \n",
    "        self.vehicle.apply_control(carla.VehicleControl(throttle=1.0, brake=0.0, steer = steer))\n",
    "        time.sleep(sleepy)\n",
    "        reward = 1\n",
    "        \n",
    "        if len(self.collision_hist) != 0:\n",
    "            done = True\n",
    "        else :\n",
    "            done=False\n",
    "        \n",
    "        if self.episode_start + SECONDS_PER_EPISODE < time.time():\n",
    "            done = True\n",
    "            \n",
    "        xx = self.distance_to_obstacle_f\n",
    "        yy = self.distance_to_obstacle_r\n",
    "        zz = self.distance_to_obstacle_l\n",
    "        state_=np.array([xx,yy,zz])\n",
    "            \n",
    "        return state_, reward, done, None\n",
    "    \n",
    "    def test_step_brake(self,sleepy):\n",
    "        \n",
    "        self.vehicle.apply_control(carla.VehicleControl(throttle=1.0, brake=0.0, steer = steer))\n",
    "        time.sleep(sleepy)\n",
    "        reward = 1\n",
    "        \n",
    "        if len(self.collision_hist) != 0:\n",
    "            done = True\n",
    "        else :\n",
    "            done=False\n",
    "        \n",
    "        if self.episode_start + SECONDS_PER_EPISODE < time.time():\n",
    "            done = True\n",
    "            \n",
    "        xx = self.distance_to_obstacle_f\n",
    "        yy = self.distance_to_obstacle_r\n",
    "        zz = self.distance_to_obstacle_l\n",
    "        state_=np.array([xx,yy,zz])\n",
    "            \n",
    "        return state_, reward, done, None\n",
    "        "
   ]
  },
  {
   "cell_type": "markdown",
   "metadata": {
    "heading_collapsed": true
   },
   "source": [
    "# DQN Agent"
   ]
  },
  {
   "cell_type": "code",
   "execution_count": 3,
   "metadata": {
    "hidden": true
   },
   "outputs": [],
   "source": [
    "class DQNAgent:\n",
    "    \n",
    "    def __init__(self,state_size,action_size):\n",
    "        self.state_size=state_size\n",
    "        self.action_size=action_size\n",
    "        self.model = self.create_model()\n",
    "        self.target_model = self.create_model()\n",
    "        self.target_model.set_weights(self.model.get_weights())\n",
    "\n",
    "        self.replay_memory = deque(maxlen=REPLAY_MEMORY_SIZE)\n",
    "\n",
    "        self.target_update_counter = 0\n",
    "        #self.graph = tf.get_default_graph()\n",
    "\n",
    "        self.terminate = False\n",
    "        self.last_logged_episode = 0\n",
    "        self.training_initialized = False\n",
    "    \n",
    "    def get_weight(self):\n",
    "        \n",
    "        w = self.model.get_weights()        \n",
    "        return w\n",
    "    \n",
    "    def predict(self,state):\n",
    "        \n",
    "        predict = self.model.predict(state.reshape((1, self.state_size)))\n",
    "        return predict\n",
    "    \n",
    "    def save_model(self,name):\n",
    "        model_json = self.model.to_json()\n",
    "        with open(\"{}.json\".format(name), \"w\") as json_file:\n",
    "            json_file.write(model_json)\n",
    "        self.model.save_weights(\"{}.h5\".format(name))\n",
    "        print(\"Saved model to disk\")     \n",
    "        \n",
    "\n",
    "    def create_model(self):\n",
    "        \n",
    "        model = Sequential()\n",
    "        model.add(Dense(32, input_dim=self.state_size, activation='relu'))\n",
    "        model.add(Dense(64, input_dim=32, activation='relu')) \n",
    "        model.add(Dense(self.action_size, activation='linear'))            # output nodes = #action\n",
    "        model.compile(loss='mse', optimizer=Adam(lr=0.01))\n",
    "        return model\n",
    "\n",
    "    def update_replay_memory(self, transition):\n",
    "        # transition = (current_state, action, reward, new_state, done)\n",
    "        self.replay_memory.append(transition)\n",
    "\n",
    "    def train(self):\n",
    "        global Loss\n",
    "        if len(self.replay_memory) < MIN_REPLAY_MEMORY_SIZE:\n",
    "            self.terminate=True\n",
    "            Loss.append(0)\n",
    "            return\n",
    "\n",
    "        minibatch = random.sample(self.replay_memory, MINIBATCH_SIZE)\n",
    "        \n",
    "        current_states = np.array([transition[0] for transition in minibatch])\n",
    "        \n",
    "        #with self.graph.as_default():\n",
    "        current_qs_list = self.model.predict(current_states, PREDICTION_BATCH_SIZE)\n",
    "\n",
    "        new_current_states = np.array([transition[3] for transition in minibatch])\n",
    "        \n",
    "        #with self.graph.as_default():\n",
    "        future_qs_list = self.target_model.predict(new_current_states, PREDICTION_BATCH_SIZE)\n",
    "\n",
    "        X = []\n",
    "        y = []\n",
    "\n",
    "        for index, (current_state, action, reward, new_state, done) in enumerate(minibatch):\n",
    "            if not done:\n",
    "                max_future_q = np.max(future_qs_list[index])\n",
    "                new_q = reward + DISCOUNT * max_future_q\n",
    "            else:\n",
    "                new_q = reward\n",
    "\n",
    "            current_qs = current_qs_list[index]\n",
    "            current_qs[action] = new_q\n",
    "            \n",
    "            X.append(current_state)\n",
    "            y.append(current_qs)\n",
    "\n",
    "\n",
    "        history=self.model.fit(np.array(X), np.array(y), batch_size=TRAINING_BATCH_SIZE, verbose=0, shuffle=False)\n",
    "        history\n",
    "        Loss.append(history.history['loss'][0])\n",
    "        self.target_model.set_weights(self.model.get_weights())\n",
    "\n",
    "    def get_qs(self, state):\n",
    "        return self.model.predict(state.reshape((1, self.state_size)))[0]\n",
    "        \n",
    "    def train_in_loop(self):\n",
    "        X = np.random.uniform(size=(1, self.state_size)).astype(np.float32)\n",
    "        y = np.random.uniform(size=(1, self.action_size)).astype(np.float32)\n",
    "        \n",
    "        self.model.fit(X,y, verbose=False, batch_size=1)\n",
    "\n",
    "        self.training_initialized = True\n",
    "        print('Start Train')\n",
    "        while True:\n",
    "            if self.terminate:\n",
    "                return\n",
    "            self.train()\n",
    "            time.sleep(0.01)"
   ]
  },
  {
   "cell_type": "markdown",
   "metadata": {
    "heading_collapsed": true
   },
   "source": [
    "# Optional function"
   ]
  },
  {
   "cell_type": "code",
   "execution_count": 4,
   "metadata": {
    "hidden": true
   },
   "outputs": [],
   "source": [
    "def open_carla(require):\n",
    "    try:\n",
    "        if require == 'fast':\n",
    "            os.popen('C:\\\\Users\\\\nbhah\\\\Desktop\\\\Carla\\\\CarlaUE4\\\\Binaries\\\\Win64\\\\CarlaUE4.exe -benchmark  -fps=10 -quality-level=Low')\n",
    "        else:\n",
    "            os.popen('C:\\\\Users\\\\nbhah\\\\Desktop\\\\Carla\\\\CarlaUE4\\\\Binaries\\\\Win64\\\\CarlaUE4.exe')\n",
    "    except Exception as err:\n",
    "        print(err)\n",
    "    print('opening Carla')\n",
    "    \n",
    "def close_carla():\n",
    "    try:\n",
    "        os.system('TASKKILL /F /IM CarlaUE4.exe')\n",
    "    except Exception as err:\n",
    "        print(err)\n",
    "    time.sleep(0.5)\n",
    "    \n",
    "def xxx():\n",
    "    env.world.wait_for_tick()\n",
    "    for x in list(env.world.get_actors()):\n",
    "        if x.type_id == 'vehicle.tesla.model3' or x.type_id == 'sensor.lidar.ray_cast' or x.type_id == 'sensor.other.collision':\n",
    "            x.destroy()\n",
    "            \n",
    "def lidar_line(points,degree,width):\n",
    "    angle = degree*(2*np.pi)/360\n",
    "    points_l = points\n",
    "    points_l = points_l[np.logical_and(points_l[:,2] > -1.75, points_l[:,2] < 1000)] #z\n",
    "    points_l = points_l[np.logical_and(np.tan(angle)*points_l[:,0]+width*np.sqrt(1+np.tan(angle)**2)>=points_l[:,1], np.tan(angle)*points_l[:,0]-width*np.sqrt(1+np.tan(angle)**2)<=points_l[:,1])] #y\n",
    "    if 180>degree >0:\n",
    "        points_l = points_l[np.logical_and(points_l[:,1]>0, points_l[:,1]<1000)] #y>0\n",
    "    if 180<degree<360:\n",
    "        points_l = points_l[np.logical_and(points_l[:,1]<0, points_l[:,1] > -1000)] #x\n",
    "    if degree == 0 or degree == 360:\n",
    "        points_l = points_l[np.logical_and(points_l[:,0]>0,points_l[:,0] <1000 )] #x\n",
    "    if degree == 180:\n",
    "        points_l = points_l[np.logical_and(points_l[:,0] >-1000 , points_l[:,0]<0 )]\n",
    "    return  points_l"
   ]
  },
  {
   "cell_type": "markdown",
   "metadata": {},
   "source": [
    "# Load model"
   ]
  },
  {
   "cell_type": "code",
   "execution_count": 5,
   "metadata": {},
   "outputs": [
    {
     "name": "stdout",
     "output_type": "stream",
     "text": [
      "Loaded model from disk\n",
      "Model: \"sequential_1\"\n",
      "_________________________________________________________________\n",
      "Layer (type)                 Output Shape              Param #   \n",
      "=================================================================\n",
      "dense_1 (Dense)              (None, 32)                128       \n",
      "_________________________________________________________________\n",
      "dense_2 (Dense)              (None, 64)                2112      \n",
      "_________________________________________________________________\n",
      "dense_3 (Dense)              (None, 2)                 130       \n",
      "=================================================================\n",
      "Total params: 2,370\n",
      "Trainable params: 2,370\n",
      "Non-trainable params: 0\n",
      "_________________________________________________________________\n"
     ]
    }
   ],
   "source": [
    "model_name='Continuous_test_1'\n",
    "\n",
    "json_file = open('DATA\\\\ {}.json'.format(model_name), 'r')\n",
    "loaded_model_json = json_file.read()\n",
    "json_file.close()\n",
    "loaded_model = model_from_json(loaded_model_json)\n",
    "# load weights into new model\n",
    "loaded_model.load_weights(\"DATA\\\\ {}.h5\".format(model_name))\n",
    "print(\"Loaded model from disk\")\n",
    "loaded_model.summary()"
   ]
  },
  {
   "cell_type": "markdown",
   "metadata": {},
   "source": [
    "# Test model "
   ]
  },
  {
   "cell_type": "code",
   "execution_count": 8,
   "metadata": {},
   "outputs": [
    {
     "data": {
      "application/vnd.jupyter.widget-view+json": {
       "model_id": "c8840114141f4639ba8b270d11e7419a",
       "version_major": 2,
       "version_minor": 0
      },
      "text/plain": [
       "HBox(children=(IntProgress(value=0, max=10), HTML(value='')))"
      ]
     },
     "metadata": {},
     "output_type": "display_data"
    },
    {
     "name": "stdout",
     "output_type": "stream",
     "text": [
      "\n"
     ]
    }
   ],
   "source": [
    "#close_carla()\n",
    "#open_carla('not fast')\n",
    "#time.sleep(15)\n",
    "\n",
    "sleepy=0.2\n",
    "town='town03'\n",
    "test_ep=10\n",
    "test_step=[]\n",
    "test_reward=[]\n",
    "test_steer=[]\n",
    "steer_amt=0.3\n",
    "SECONDS_PER_EPISODE=12\n",
    "env=CarEnv()\n",
    "xxx()\n",
    "\n",
    "#test_step_steer for steer \n",
    "#test_step_brake for brake case\n",
    "\n",
    "\n",
    "with tqdm(total=test_ep) as pbar:\n",
    "    for episode in range(test_ep):\n",
    "        state=env.reset()\n",
    "        done = False\n",
    "        step=0\n",
    "        rewards=0\n",
    "        steer_=0\n",
    "        while True:\n",
    "            step+=1\n",
    "            state=np.array([[i for i in state]])\n",
    "            a=loaded_model.predict(state)\n",
    "            a1=a[0][0]/a.sum()\n",
    "            a2=a[0][1]/a.sum()            \n",
    "            steer=(-steer_amt*a1)+(steer_amt*a2)\n",
    "            time.sleep(0.01)\n",
    "            state,reward,done,_=env.test_step_steer(steer,sleepy)\n",
    "            rewards+=reward\n",
    "            steer_+=steer\n",
    "            if done:\n",
    "                break\n",
    "                \n",
    "        for actor in env.actor_list:\n",
    "                actor.destroy()\n",
    "                \n",
    "        test_reward.append(rewards)\n",
    "        test_step.append(step)\n",
    "        test_steer.append(steer_/step)\n",
    "        pbar.update(1)\n",
    "    "
   ]
  },
  {
   "cell_type": "markdown",
   "metadata": {},
   "source": [
    "# Test result"
   ]
  },
  {
   "cell_type": "code",
   "execution_count": 9,
   "metadata": {},
   "outputs": [
    {
     "data": {
      "text/html": [
       "<div>\n",
       "<style scoped>\n",
       "    .dataframe tbody tr th:only-of-type {\n",
       "        vertical-align: middle;\n",
       "    }\n",
       "\n",
       "    .dataframe tbody tr th {\n",
       "        vertical-align: top;\n",
       "    }\n",
       "\n",
       "    .dataframe thead th {\n",
       "        text-align: right;\n",
       "    }\n",
       "</style>\n",
       "<table border=\"1\" class=\"dataframe\">\n",
       "  <thead>\n",
       "    <tr style=\"text-align: right;\">\n",
       "      <th></th>\n",
       "      <th>Episode</th>\n",
       "      <th>Step</th>\n",
       "      <th>Reward</th>\n",
       "      <th>Steer</th>\n",
       "    </tr>\n",
       "  </thead>\n",
       "  <tbody>\n",
       "    <tr>\n",
       "      <th>0</th>\n",
       "      <td>0</td>\n",
       "      <td>57</td>\n",
       "      <td>57</td>\n",
       "      <td>-0.007807</td>\n",
       "    </tr>\n",
       "    <tr>\n",
       "      <th>1</th>\n",
       "      <td>1</td>\n",
       "      <td>2</td>\n",
       "      <td>2</td>\n",
       "      <td>-0.011433</td>\n",
       "    </tr>\n",
       "    <tr>\n",
       "      <th>2</th>\n",
       "      <td>2</td>\n",
       "      <td>57</td>\n",
       "      <td>57</td>\n",
       "      <td>-0.012780</td>\n",
       "    </tr>\n",
       "    <tr>\n",
       "      <th>3</th>\n",
       "      <td>3</td>\n",
       "      <td>54</td>\n",
       "      <td>54</td>\n",
       "      <td>-0.008341</td>\n",
       "    </tr>\n",
       "    <tr>\n",
       "      <th>4</th>\n",
       "      <td>4</td>\n",
       "      <td>2</td>\n",
       "      <td>2</td>\n",
       "      <td>-0.033589</td>\n",
       "    </tr>\n",
       "    <tr>\n",
       "      <th>5</th>\n",
       "      <td>5</td>\n",
       "      <td>57</td>\n",
       "      <td>57</td>\n",
       "      <td>-0.003341</td>\n",
       "    </tr>\n",
       "    <tr>\n",
       "      <th>6</th>\n",
       "      <td>6</td>\n",
       "      <td>47</td>\n",
       "      <td>47</td>\n",
       "      <td>-0.002429</td>\n",
       "    </tr>\n",
       "    <tr>\n",
       "      <th>7</th>\n",
       "      <td>7</td>\n",
       "      <td>57</td>\n",
       "      <td>57</td>\n",
       "      <td>-0.014791</td>\n",
       "    </tr>\n",
       "    <tr>\n",
       "      <th>8</th>\n",
       "      <td>8</td>\n",
       "      <td>57</td>\n",
       "      <td>57</td>\n",
       "      <td>-0.010187</td>\n",
       "    </tr>\n",
       "    <tr>\n",
       "      <th>9</th>\n",
       "      <td>9</td>\n",
       "      <td>6</td>\n",
       "      <td>6</td>\n",
       "      <td>-0.029303</td>\n",
       "    </tr>\n",
       "  </tbody>\n",
       "</table>\n",
       "</div>"
      ],
      "text/plain": [
       "   Episode  Step  Reward     Steer\n",
       "0        0    57      57 -0.007807\n",
       "1        1     2       2 -0.011433\n",
       "2        2    57      57 -0.012780\n",
       "3        3    54      54 -0.008341\n",
       "4        4     2       2 -0.033589\n",
       "5        5    57      57 -0.003341\n",
       "6        6    47      47 -0.002429\n",
       "7        7    57      57 -0.014791\n",
       "8        8    57      57 -0.010187\n",
       "9        9     6       6 -0.029303"
      ]
     },
     "execution_count": 9,
     "metadata": {},
     "output_type": "execute_result"
    }
   ],
   "source": [
    "df_test=pd.DataFrame({'Episode':[i for i in range(len(test_step))],\\\n",
    "                      'Step':test_step,'Reward':test_reward,\\\n",
    "                    'Steer':test_steer})\n",
    "df_test"
   ]
  },
  {
   "cell_type": "code",
   "execution_count": 10,
   "metadata": {},
   "outputs": [
    {
     "data": {
      "image/png": "[encoded data removed]",
      "text/plain": [
       "<Figure size 640x480 with 1 Axes>"
      ]
     },
     "metadata": {},
     "output_type": "display_data"
    },
    {
     "data": {
      "text/plain": [
       "<ggplot: (161568264554)>"
      ]
     },
     "execution_count": 10,
     "metadata": {},
     "output_type": "execute_result"
    }
   ],
   "source": [
    "ggplot(df_test, aes(x='Episode',y='Reward'))+ \\\n",
    "  geom_point(color=\"#F18F01\", size=1)"
   ]
  },
  {
   "cell_type": "code",
   "execution_count": 11,
   "metadata": {},
   "outputs": [
    {
     "data": {
      "image/png": "[encoded data removed]",
      "text/plain": [
       "<Figure size 640x480 with 1 Axes>"
      ]
     },
     "metadata": {},
     "output_type": "display_data"
    },
    {
     "data": {
      "text/plain": [
       "<ggplot: (161531948587)>"
      ]
     },
     "execution_count": 11,
     "metadata": {},
     "output_type": "execute_result"
    }
   ],
   "source": [
    "ggplot(df_test, aes(x='Episode',y='Steer'))+ \\\n",
    "  geom_point(color=\"#F18F01\", size=1)"
   ]
  },
  {
   "cell_type": "code",
   "execution_count": 12,
   "metadata": {},
   "outputs": [
    {
     "data": {
      "image/png": "[encoded data removed]",
      "text/plain": [
       "<Figure size 640x480 with 1 Axes>"
      ]
     },
     "metadata": {},
     "output_type": "display_data"
    },
    {
     "data": {
      "text/plain": [
       "<ggplot: (161568797153)>"
      ]
     },
     "execution_count": 12,
     "metadata": {},
     "output_type": "execute_result"
    }
   ],
   "source": [
    "ggplot(df_test, aes(x='Episode',y='Steer'))+ \\\n",
    "  geom_line(size=0.1,color='mediumblue') +\\\n",
    "    geom_smooth(method=\"lm\",color='firebrick', se=False, size=0.5, linetype=\"dashed\")"
   ]
  },
  {
   "cell_type": "code",
   "execution_count": 13,
   "metadata": {},
   "outputs": [],
   "source": [
    "close_carla()"
   ]
  },
  {
   "cell_type": "code",
   "execution_count": null,
   "metadata": {},
   "outputs": [],
   "source": []
  }
 ],
 "metadata": {
  "kernelspec": {
   "display_name": "Python 3",
   "language": "python",
   "name": "python3"
  },
  "language_info": {
   "codemirror_mode": {
    "name": "ipython",
    "version": 3
   },
   "file_extension": ".py",
   "mimetype": "text/x-python",
   "name": "python",
   "nbconvert_exporter": "python",
   "pygments_lexer": "ipython3",
   "version": "3.7.3"
  },
  "toc": {
   "base_numbering": 1,
   "nav_menu": {},
   "number_sections": true,
   "sideBar": true,
   "skip_h1_title": false,
   "title_cell": "KWY Contents",
   "title_sidebar": "KWY Contents",
   "toc_cell": false,
   "toc_position": {
    "height": "calc(100% - 180px)",
    "left": "10px",
    "top": "150px",
    "width": "165px"
   },
   "toc_section_display": true,
   "toc_window_display": true
  }
 },
 "nbformat": 4,
 "nbformat_minor": 4
}
