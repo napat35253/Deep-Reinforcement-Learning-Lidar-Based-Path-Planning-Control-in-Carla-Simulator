{
 "cells": [
  {
   "cell_type": "markdown",
   "metadata": {},
   "source": [
    "# Import"
   ]
  },
  {
   "cell_type": "code",
   "execution_count": 1,
   "metadata": {},
   "outputs": [
    {
     "name": "stdout",
     "output_type": "stream",
     "text": [
      "IMPORT DONE\n"
     ]
    }
   ],
   "source": [
    "import glob\n",
    "import os\n",
    "import sys\n",
    "import random\n",
    "import time\n",
    "import numpy as np\n",
    "import cv2\n",
    "import math\n",
    "import pandas as pd\n",
    "from plotnine import *\n",
    "from tqdm import tqdm_notebook as tqdm\n",
    "\n",
    "try:\n",
    "    sys.path.append(glob.glob('../carla/dist/carla-*%d.%d-%s.egg' % (\n",
    "        sys.version_info.major,\n",
    "        sys.version_info.minor,\n",
    "        'win-amd64' if os.name == 'nt' else 'linux-x86_64'))[0])\n",
    "except IndexError:\n",
    "    pass\n",
    "import carla\n",
    "print('IMPORT DONE')"
   ]
  },
  {
   "cell_type": "markdown",
   "metadata": {},
   "source": [
    "# Car Environment [Action/Reward here]"
   ]
  },
  {
   "cell_type": "code",
   "execution_count": 2,
   "metadata": {},
   "outputs": [],
   "source": [
    "class CarEnv:\n",
    "    #BRAKE_AMT = 1.0\n",
    "\n",
    "    actor_list = []\n",
    "    collision_hist = []\n",
    "\n",
    "    pt_cloud = []\n",
    "    pt_cloud_filtered = []\n",
    "    \n",
    "    def __init__(self):\n",
    "        self.client = carla.Client('localhost', 2000)\n",
    "        self.client.set_timeout(2.0)\n",
    "\n",
    "        self.world = self.client.get_world()\n",
    "\n",
    "        blueprint_library = self.world.get_blueprint_library()\n",
    "\n",
    "        self.model_3 = blueprint_library.filter('model3')[0]\n",
    "        self.truck_2 = blueprint_library.filter('carlamotors')[0]\n",
    "    \n",
    "    def Black_screen(self):\n",
    "        settings = self.world.get_settings()\n",
    "        settings.no_rendering_mode = True\n",
    "        self.world.apply_settings(settings)\n",
    "        \n",
    "    def reset(self):\n",
    "        self.collision_hist = []\n",
    "        self.actor_list = []\n",
    "        self.pt_cloud = []\n",
    "        self.pt_cloud_filtered = []\n",
    "        #place=random.uniform(110,150)\n",
    "        ##print('Location: ',str(place))\n",
    "        transform = carla.Transform(carla.Location(-120,125,3),carla.Rotation(0,-90,0))\n",
    "\n",
    "        self.vehicle = self.world.spawn_actor(self.model_3, transform)\n",
    "        \n",
    "        self.actor_list.append(self.vehicle)\n",
    "\n",
    "        self.lidar_sensor = self.world.get_blueprint_library().find('sensor.lidar.ray_cast')\n",
    "        self.lidar_sensor.set_attribute('points_per_second', '100000')\n",
    "        self.lidar_sensor.set_attribute('channels', '32')\n",
    "        self.lidar_sensor.set_attribute('range', '10000')\n",
    "        self.lidar_sensor.set_attribute('upper_fov', '10')\n",
    "        self.lidar_sensor.set_attribute('lower_fov', '-10')\n",
    "        self.lidar_sensor.set_attribute('rotation_frequency', '60')\n",
    "\n",
    "        transform = carla.Transform(carla.Location(x=0, z=1.9))\n",
    "        self.sensor = self.world.spawn_actor(self.lidar_sensor, transform, attach_to=self.vehicle)\n",
    "\n",
    "        self.actor_list.append(self.sensor)\n",
    "        self.sensor.listen(lambda data: self.process_lidar(data))\n",
    "\n",
    "        self.vehicle.apply_control(carla.VehicleControl(throttle=1, brake=0.0))\n",
    "        self.episode_start = time.time()\n",
    "\n",
    "\n",
    "        time.sleep(4) # sleep to get things started and to not detect a collision when the car spawns/falls from sky.\n",
    "        \n",
    "        transform2 = carla.Transform(carla.Location(x=2.5, z=0.7))\n",
    "        colsensor = self.world.get_blueprint_library().find('sensor.other.collision')\n",
    "        self.colsensor = self.world.spawn_actor(colsensor, transform2, attach_to=self.vehicle)\n",
    "        self.actor_list.append(self.colsensor)\n",
    "        self.colsensor.listen(lambda event: self.collision_data(event))\n",
    "\n",
    "        while self.distance_to_obstacle is None:\n",
    "            time.sleep(0.01)\n",
    "\n",
    "        self.episode_start = time.time()\n",
    "\n",
    "        self.vehicle.apply_control(carla.VehicleControl(throttle=1, brake=0.0))\n",
    "        \n",
    "        return abs(float(\"%.1f\" % self.distance_to_obstacle))\n",
    "\n",
    "    def collision_data(self, event):\n",
    "        self.collision_hist.append(event)\n",
    "\n",
    "    def process_lidar(self, raw):\n",
    "        points = np.frombuffer(raw.raw_data, dtype=np.dtype('f4'))\n",
    "        points = np.reshape(points, (int(points.shape[0] / 3), 3))*np.array([1,-1,-1])\n",
    "        lidar_data = points.astype(np.int32)\n",
    "        self.pt_cloud.append(lidar_data)\n",
    "\n",
    "        #screen points specifically -4<y<4 and 0<x<12\n",
    "        pt = points[np.logical_and(points[:,0] > -3, points[:,0] < 3)]\n",
    "        points_filter = pt[np.logical_and(pt[:,1] > 0, pt[:,1] < 50)]\n",
    "        points_filter = points_filter[np.logical_and(points_filter[:,1] > 0, points_filter[:,1] < 50)]\n",
    "        self.pt_cloud_filtered.append(points_filter)\n",
    "\n",
    "        if len(points_filter) == 0:\n",
    "            pass\n",
    "        else:\n",
    "            self.distance_to_obstacle = min(points_filter[:,1])-2.247148275375366\n",
    "\n",
    "    def step(self, action):\n",
    "\n",
    "        v = self.vehicle.get_velocity()\n",
    "        kmh = int(3.6 * math.sqrt(v.x**2 + v.y**2 + v.z**2))\n",
    "        \n",
    "        if action == 0:\n",
    "            self.vehicle.apply_control(carla.VehicleControl(throttle=1.0, brake=0.0, steer = 0.0))\n",
    "        elif action == 1:\n",
    "            while kmh != 0:\n",
    "                self.vehicle.apply_control(carla.VehicleControl(throttle=0.0, brake=1.0, steer = 0.0))\n",
    "                v = self.vehicle.get_velocity()\n",
    "                kmh = int(3.6 * math.sqrt(v.x**2 + v.y**2 + v.z**2))\n",
    "                #print(\"distance_to_obstacle = \",self.distance_to_obstacle)\n",
    "                \n",
    "        # ถ้ารถชน หรือ รถหยุดแล้ว\n",
    "        if kmh == 0 or len(self.collision_hist) != 0 :\n",
    "            done = True\n",
    "        \n",
    "            if  0<= self.distance_to_obstacle <1 and len(self.collision_hist) != 0 :\n",
    "                reward = -1\n",
    "            elif  0<= self.distance_to_obstacle <1:\n",
    "                reward = 1\n",
    "            elif  1<= self.distance_to_obstacle <2:\n",
    "                reward = 1.5\n",
    "            elif  2<= self.distance_to_obstacle <3:\n",
    "                reward = 0.45\n",
    "            elif  3<= self.distance_to_obstacle <4:\n",
    "                reward = 0.32\n",
    "            elif  4<= self.distance_to_obstacle <5:\n",
    "                reward = 0.20\n",
    "            elif  5<= self.distance_to_obstacle <6:\n",
    "                reward = -0.15\n",
    "            elif  6<= self.distance_to_obstacle <7:\n",
    "                reward = -0.8\n",
    "            elif  7<= self.distance_to_obstacle <8:\n",
    "                reward = -1.5\n",
    "            elif  8<= self.distance_to_obstacle :\n",
    "                reward = -3\n",
    "        else:\n",
    "            done = False\n",
    "            reward = 0.5\n",
    "        \n",
    "        if self.episode_start + SECONDS_PER_EPISODE < time.time():\n",
    "            done = True\n",
    "            reward = -1\n",
    "            dist = 0\n",
    "            \n",
    "        dist=abs(float(\"%.1f\" % self.distance_to_obstacle))\n",
    "            \n",
    "\n",
    "        return dist,reward, done, None"
   ]
  },
  {
   "cell_type": "markdown",
   "metadata": {},
   "source": [
    "# Optional Function"
   ]
  },
  {
   "cell_type": "code",
   "execution_count": 3,
   "metadata": {},
   "outputs": [],
   "source": [
    "def open_carla(require):\n",
    "    try:\n",
    "        if require == 'fast':\n",
    "            os.popen('C:\\\\Users\\\\nbhah\\\\Desktop\\\\Carla\\\\CarlaUE4\\\\Binaries\\\\Win64\\\\CarlaUE4.exe -benchmark  -fps=10 -quality-level=Low')\n",
    "        else:\n",
    "            os.popen('C:\\\\Users\\\\nbhah\\\\Desktop\\\\Carla\\\\CarlaUE4\\\\Binaries\\\\Win64\\\\CarlaUE4.exe')\n",
    "    except Exception as err:\n",
    "        print(err)\n",
    "    print('opening Carla')\n",
    "    \n",
    "def close_carla():\n",
    "    try:\n",
    "        os.system('TASKKILL /F /IM CarlaUE4.exe')\n",
    "    except Exception as err:\n",
    "        print(err)\n",
    "    time.sleep(0.5)\n",
    "    \n",
    "def xxx():\n",
    "    env.world.wait_for_tick()\n",
    "    for x in list(env.world.get_actors()):\n",
    "        if x.type_id == 'vehicle.tesla.model3' or x.type_id == 'sensor.lidar.ray_cast' or x.type_id == 'sensor.other.collision':\n",
    "            x.destroy()\n",
    "            \n",
    "def lidar_line(points,degree,width):\n",
    "    angle = degree*(2*np.pi)/360\n",
    "    points_l = points\n",
    "    points_l = points_l[np.logical_and(points_l[:,2] > -1.75, points_l[:,2] < 1000)] #z\n",
    "    points_l = points_l[np.logical_and(np.tan(angle)*points_l[:,0]+width*np.sqrt(1+np.tan(angle)**2)>=points_l[:,1], np.tan(angle)*points_l[:,0]-width*np.sqrt(1+np.tan(angle)**2)<=points_l[:,1])] #y\n",
    "    if 180>degree >0:\n",
    "        points_l = points_l[np.logical_and(points_l[:,1]>0, points_l[:,1]<1000)] #y>0\n",
    "    if 180<degree<360:\n",
    "        points_l = points_l[np.logical_and(points_l[:,1]<0, points_l[:,1] > -1000)] #x\n",
    "    if degree == 0 or degree == 360:\n",
    "        points_l = points_l[np.logical_and(points_l[:,0]>0,points_l[:,0] <1000 )] #x\n",
    "    if degree == 180:\n",
    "        points_l = points_l[np.logical_and(points_l[:,0] >-1000 , points_l[:,0]<0 )]\n",
    "    return  points_l\n",
    "\n",
    "def update_q(state,new_state,action,reward):\n",
    "    global learning_rate,discount_rate,q_table,dist_q\n",
    "    if state == new_state:\n",
    "        if state in dist_q  :\n",
    "            st = dist_q.index(state)\n",
    "            new_st = dist_q.index(new_state)        \n",
    "            q_table[st][action] = q_table[st][action] * (1 - learning_rate) + \\\n",
    "                learning_rate * (reward + discount_rate * max(q_table[new_st][:]))\n",
    "        else :\n",
    "            dist_q.append(state)\n",
    "            dist_q.sort()\n",
    "            st = dist_q.index(state)\n",
    "            new_st = dist_q.index(new_state)\n",
    "            q_table.insert(st,[0,0])\n",
    "            q_table[st][action] = q_table[st][action] * (1 - learning_rate) + \\\n",
    "            learning_rate * (reward + discount_rate * max(q_table[new_st][:]))\n",
    "    else:\n",
    "        if state in dist_q and new_state in dist_q :\n",
    "            st = dist_q.index(state)\n",
    "            new_st = dist_q.index(new_state)\n",
    "            q_table[st][action] = q_table[st][action] * (1 - learning_rate) + \\\n",
    "                learning_rate * (reward + discount_rate * max(q_table[new_st][:]))\n",
    "        elif state in dist_q :\n",
    "            dist_q.append(new_state)\n",
    "            dist_q.sort()\n",
    "            st = dist_q.index(state)\n",
    "            new_st = dist_q.index(new_state)\n",
    "            q_table.insert(new_st,[0,0])\n",
    "            q_table[st][action] = q_table[st][action] * (1 - learning_rate) + \\\n",
    "                learning_rate * (reward + discount_rate * max(q_table[new_st][:]))\n",
    "        elif new_state in dist_q:\n",
    "            dist_q.append(state)\n",
    "            dist_q.sort()\n",
    "            st = dist_q.index(state)\n",
    "            new_st = dist_q.index(new_state)\n",
    "            q_table.insert(st,[0,0])\n",
    "            q_table[st][action] = q_table[st][action] * (1 - learning_rate) + \\\n",
    "                learning_rate * (reward + discount_rate * max(q_table[new_st][:]))\n",
    "        else :\n",
    "            dist_q.append(state)\n",
    "            dist_q.append(new_state)\n",
    "            dist_q.sort()\n",
    "            st = dist_q.index(state)\n",
    "            new_st = dist_q.index(new_state)\n",
    "            q_table.insert(st,[0,0])\n",
    "            q_table.insert(new_st,[0,0])\n",
    "            q_table[st][action] = q_table[st][action] * (1 - learning_rate) + \\\n",
    "                learning_rate * (reward + discount_rate * max(q_table[new_st][:]))\n",
    "        \n"
   ]
  },
  {
   "cell_type": "markdown",
   "metadata": {},
   "source": [
    "# Input"
   ]
  },
  {
   "cell_type": "code",
   "execution_count": 4,
   "metadata": {},
   "outputs": [],
   "source": [
    "# action มี 2 อันคือ เบรคและเร่งเต็มที่, state มี 13 อัน คือ ชน, 0-1, 1-2, 2-3, 3-4, 4-5, 5-6, 6-7, 7-8, 8-9, 9-10, 10-11, >11\n",
    "action_space_size = 2\n",
    "state_space_size = 10\n",
    "\n",
    "#q_table = np.zeros((state_space_size, action_space_size))\n",
    "\n",
    "num_episodes = 700\n",
    "max_steps_per_episode = 100\n",
    "learning_rate = 0.1\n",
    "discount_rate = 0.99\n",
    "SECONDS_PER_EPISODE=12\n",
    "exploration_rate = 1\n",
    "max_exploration_rate = 1\n",
    "min_exploration_rate = 0.01\n",
    "exploration_decay_rate = 0.01\n",
    "\n",
    "count = 0\n"
   ]
  },
  {
   "cell_type": "markdown",
   "metadata": {},
   "source": [
    "# Load q_table"
   ]
  },
  {
   "cell_type": "code",
   "execution_count": 5,
   "metadata": {},
   "outputs": [],
   "source": [
    "load = True\n",
    "\n",
    "if load == True:\n",
    "    model_name='brake_test_1'\n",
    "    file_path=\"DATA\\\\ \"\n",
    "    df_q=pd.read_csv(file_path+'{}_q_table.csv'.format(model_name))\n",
    "    dist_q_load=df_q.values[:,0]\n",
    "    q_table_load=df_q.values[:,1:]\n",
    "    df_load=pd.read_csv(file_path+'{}.csv'.format(model_name))\n",
    "    value=['Episode','Reward','avg_reward','Step','stop_distance','Explore','PCT_Explore']\n",
    "    df_load=df_load[value]\n",
    "    load_ep=df_load.Episode.tail(1).values[0]+1\n",
    "    load_explore=df_load.Explore.tail(1).values[0]"
   ]
  },
  {
   "cell_type": "markdown",
   "metadata": {},
   "source": [
    "# MAIN"
   ]
  },
  {
   "cell_type": "code",
   "execution_count": 6,
   "metadata": {},
   "outputs": [
    {
     "name": "stdout",
     "output_type": "stream",
     "text": [
      "opening Carla\n"
     ]
    },
    {
     "data": {
      "application/vnd.jupyter.widget-view+json": {
       "model_id": "5fc8858011724c2b8b79acf826ca89e9",
       "version_major": 2,
       "version_minor": 0
      },
      "text/plain": [
       "HBox(children=(IntProgress(value=0, max=400), HTML(value='')))"
      ]
     },
     "metadata": {},
     "output_type": "display_data"
    },
    {
     "name": "stdout",
     "output_type": "stream",
     "text": [
      "Ep : 300 , Reward : 15.7 , Step : 34 , Explore_rate : 1.0 ,Dist : 6.5 \n",
      "Ep : 301 , Reward : -0.30000000000000004 , Step : 2 , Explore_rate : 0.9901493354116764 ,Dist : 6.8 \n",
      "Ep : 302 , Reward : -0.8 , Step : 1 , Explore_rate : 0.9803966865736877 ,Dist : 6.7 \n",
      "Ep : 303 , Reward : -0.8 , Step : 1 , Explore_rate : 0.970741078213023 ,Dist : 6.7 \n",
      "Ep : 304 , Reward : -0.8 , Step : 1 , Explore_rate : 0.9611815447608 ,Dist : 6.7 \n",
      "Ep : 305 , Reward : 1.2 , Step : 5 , Explore_rate : 0.9517171302557069 ,Dist : 6.7 \n",
      "Ep : 306 , Reward : 1.2 , Step : 5 , Explore_rate : 0.9423468882484062 ,Dist : 6.7 \n",
      "Ep : 307 , Reward : -0.30000000000000004 , Step : 2 , Explore_rate : 0.9330698817068888 ,Dist : 6.7 \n",
      "Ep : 308 , Reward : -0.8 , Step : 1 , Explore_rate : 0.9238851829227694 ,Dist : 6.8 \n",
      "\n"
     ]
    },
    {
     "ename": "KeyboardInterrupt",
     "evalue": "",
     "output_type": "error",
     "traceback": [
      "\u001b[1;31m---------------------------------------------------------------------------\u001b[0m",
      "\u001b[1;31mKeyboardInterrupt\u001b[0m                         Traceback (most recent call last)",
      "\u001b[1;32m<ipython-input-6-edc4b639ec19>\u001b[0m in \u001b[0;36m<module>\u001b[1;34m\u001b[0m\n\u001b[0;32m     26\u001b[0m \u001b[1;32mwith\u001b[0m \u001b[0mtqdm\u001b[0m\u001b[1;33m(\u001b[0m\u001b[0mtotal\u001b[0m\u001b[1;33m=\u001b[0m\u001b[0mnum_episodes\u001b[0m\u001b[1;33m-\u001b[0m\u001b[0mload_ep\u001b[0m\u001b[1;33m)\u001b[0m \u001b[1;32mas\u001b[0m \u001b[0mpbar\u001b[0m\u001b[1;33m:\u001b[0m\u001b[1;33m\u001b[0m\u001b[1;33m\u001b[0m\u001b[0m\n\u001b[0;32m     27\u001b[0m     \u001b[1;32mfor\u001b[0m \u001b[0mepisode\u001b[0m \u001b[1;32min\u001b[0m \u001b[0mrange\u001b[0m\u001b[1;33m(\u001b[0m\u001b[0mnum_episodes\u001b[0m\u001b[1;33m-\u001b[0m\u001b[0mload_ep\u001b[0m\u001b[1;33m)\u001b[0m\u001b[1;33m:\u001b[0m\u001b[1;33m\u001b[0m\u001b[1;33m\u001b[0m\u001b[0m\n\u001b[1;32m---> 28\u001b[1;33m         \u001b[0mstate\u001b[0m \u001b[1;33m=\u001b[0m \u001b[0menv\u001b[0m\u001b[1;33m.\u001b[0m\u001b[0mreset\u001b[0m\u001b[1;33m(\u001b[0m\u001b[1;33m)\u001b[0m\u001b[1;33m\u001b[0m\u001b[1;33m\u001b[0m\u001b[0m\n\u001b[0m\u001b[0;32m     29\u001b[0m \u001b[1;33m\u001b[0m\u001b[0m\n\u001b[0;32m     30\u001b[0m         \u001b[0mdone\u001b[0m \u001b[1;33m=\u001b[0m \u001b[1;32mFalse\u001b[0m\u001b[1;33m\u001b[0m\u001b[1;33m\u001b[0m\u001b[0m\n",
      "\u001b[1;32m<ipython-input-2-d7370bbf6f6d>\u001b[0m in \u001b[0;36mreset\u001b[1;34m(self)\u001b[0m\n\u001b[0;32m     55\u001b[0m \u001b[1;33m\u001b[0m\u001b[0m\n\u001b[0;32m     56\u001b[0m \u001b[1;33m\u001b[0m\u001b[0m\n\u001b[1;32m---> 57\u001b[1;33m         \u001b[0mtime\u001b[0m\u001b[1;33m.\u001b[0m\u001b[0msleep\u001b[0m\u001b[1;33m(\u001b[0m\u001b[1;36m4\u001b[0m\u001b[1;33m)\u001b[0m \u001b[1;31m# sleep to get things started and to not detect a collision when the car spawns/falls from sky.\u001b[0m\u001b[1;33m\u001b[0m\u001b[1;33m\u001b[0m\u001b[0m\n\u001b[0m\u001b[0;32m     58\u001b[0m \u001b[1;33m\u001b[0m\u001b[0m\n\u001b[0;32m     59\u001b[0m         \u001b[0mtransform2\u001b[0m \u001b[1;33m=\u001b[0m \u001b[0mcarla\u001b[0m\u001b[1;33m.\u001b[0m\u001b[0mTransform\u001b[0m\u001b[1;33m(\u001b[0m\u001b[0mcarla\u001b[0m\u001b[1;33m.\u001b[0m\u001b[0mLocation\u001b[0m\u001b[1;33m(\u001b[0m\u001b[0mx\u001b[0m\u001b[1;33m=\u001b[0m\u001b[1;36m2.5\u001b[0m\u001b[1;33m,\u001b[0m \u001b[0mz\u001b[0m\u001b[1;33m=\u001b[0m\u001b[1;36m0.7\u001b[0m\u001b[1;33m)\u001b[0m\u001b[1;33m)\u001b[0m\u001b[1;33m\u001b[0m\u001b[1;33m\u001b[0m\u001b[0m\n",
      "\u001b[1;31mKeyboardInterrupt\u001b[0m: "
     ]
    }
   ],
   "source": [
    "#IN CASE Train from LOAD q_table \n",
    "if load == True:\n",
    "    q_table=np.ndarray.tolist(q_table_load)\n",
    "    dist_q =np.ndarray.tolist(dist_q_load)\n",
    "    exploration_rate = load_explore\n",
    "    \n",
    "else :\n",
    "    q_table = []\n",
    "    dist_q=[]\n",
    "    load_ep=0\n",
    "\n",
    "rewards_all_episodes = []\n",
    "action_all_episodes = []\n",
    "Step=[]\n",
    "Explore=[]\n",
    "Dist_stop=[]\n",
    "Ep=[]\n",
    "\n",
    "close_carla()\n",
    "open_carla('not fast')\n",
    "time.sleep(15)\n",
    "\n",
    "env=CarEnv()\n",
    "env.Black_screen()\n",
    "xxx()\n",
    "with tqdm(total=num_episodes-load_ep) as pbar:\n",
    "    for episode in range(num_episodes-load_ep):\n",
    "        state = env.reset()\n",
    "      \n",
    "        done = False\n",
    "        rewards_current_episode = 0 \n",
    "        action_current_episode = []\n",
    "        count_step=0\n",
    "    \n",
    "        for step in range(max_steps_per_episode):\n",
    "            exploration_rate_threshold = random.uniform(0, 1)\n",
    "            if exploration_rate_threshold > exploration_rate:\n",
    "                if state not in dist_q:\n",
    "                      break\n",
    "                action=q_table[dist_q.index(state)].index(max(q_table[dist_q.index(state)][:]))\n",
    "            else:\n",
    "                action = np.random.randint(0, high=action_space_size, size=None, dtype='int')\n",
    "\n",
    "            action_current_episode.append(action)\n",
    "            new_state, reward, done, info = env.step(action)\n",
    "            update_q(state,new_state,action,reward)\n",
    "            count_step+=1\n",
    "            state = new_state\n",
    "            rewards_current_episode+=reward\n",
    "                    \n",
    "            if done == True:\n",
    "                for actor in env.actor_list:\n",
    "                    actor.destroy()\n",
    "                xxx()\n",
    "                count+=1\n",
    "                break            \n",
    "        \n",
    "        # Exploration rate decay\n",
    "        exploration_rate = min_exploration_rate + \\\n",
    "                (max_exploration_rate - min_exploration_rate) * np.exp(-exploration_decay_rate*episode)\n",
    "        \n",
    "        print('Ep : {} , Reward : {} , Step : {} , Explore_rate : {} ,Dist : {} '.format(episode+load_ep,rewards_current_episode,count_step\\\n",
    "                                                                             ,exploration_rate,state))\n",
    "        \n",
    "        Ep.append(episode+load_ep)\n",
    "        rewards_all_episodes.append(rewards_current_episode)\n",
    "        action_all_episodes.append(action_current_episode)\n",
    "        Explore.append(exploration_rate)\n",
    "        Step.append(count_step)\n",
    "        Dist_stop.append(state)\n",
    "        pbar.update(1)\n",
    "close_carla()"
   ]
  },
  {
   "cell_type": "markdown",
   "metadata": {},
   "source": [
    "# Graph"
   ]
  },
  {
   "cell_type": "code",
   "execution_count": 8,
   "metadata": {},
   "outputs": [
    {
     "data": {
      "text/html": [
       "<div>\n",
       "<style scoped>\n",
       "    .dataframe tbody tr th:only-of-type {\n",
       "        vertical-align: middle;\n",
       "    }\n",
       "\n",
       "    .dataframe tbody tr th {\n",
       "        vertical-align: top;\n",
       "    }\n",
       "\n",
       "    .dataframe thead th {\n",
       "        text-align: right;\n",
       "    }\n",
       "</style>\n",
       "<table border=\"1\" class=\"dataframe\">\n",
       "  <thead>\n",
       "    <tr style=\"text-align: right;\">\n",
       "      <th></th>\n",
       "      <th>0</th>\n",
       "      <th>1</th>\n",
       "    </tr>\n",
       "  </thead>\n",
       "  <tbody>\n",
       "    <tr>\n",
       "      <th>2.2</th>\n",
       "      <td>0.000000</td>\n",
       "      <td>0.000000</td>\n",
       "    </tr>\n",
       "    <tr>\n",
       "      <th>5.9</th>\n",
       "      <td>0.000000</td>\n",
       "      <td>0.000000</td>\n",
       "    </tr>\n",
       "    <tr>\n",
       "      <th>6.3</th>\n",
       "      <td>0.000000</td>\n",
       "      <td>0.000000</td>\n",
       "    </tr>\n",
       "    <tr>\n",
       "      <th>6.5</th>\n",
       "      <td>0.000000</td>\n",
       "      <td>0.000000</td>\n",
       "    </tr>\n",
       "    <tr>\n",
       "      <th>6.6</th>\n",
       "      <td>0.000000</td>\n",
       "      <td>0.000000</td>\n",
       "    </tr>\n",
       "    <tr>\n",
       "      <th>6.7</th>\n",
       "      <td>0.000000</td>\n",
       "      <td>0.000000</td>\n",
       "    </tr>\n",
       "    <tr>\n",
       "      <th>6.8</th>\n",
       "      <td>0.000000</td>\n",
       "      <td>0.000000</td>\n",
       "    </tr>\n",
       "    <tr>\n",
       "      <th>6.9</th>\n",
       "      <td>0.000000</td>\n",
       "      <td>0.000000</td>\n",
       "    </tr>\n",
       "    <tr>\n",
       "      <th>7.0</th>\n",
       "      <td>0.000000</td>\n",
       "      <td>0.000000</td>\n",
       "    </tr>\n",
       "    <tr>\n",
       "      <th>7.1</th>\n",
       "      <td>0.000000</td>\n",
       "      <td>0.000000</td>\n",
       "    </tr>\n",
       "    <tr>\n",
       "      <th>7.2</th>\n",
       "      <td>0.000000</td>\n",
       "      <td>0.000000</td>\n",
       "    </tr>\n",
       "    <tr>\n",
       "      <th>7.3</th>\n",
       "      <td>0.000000</td>\n",
       "      <td>0.000000</td>\n",
       "    </tr>\n",
       "    <tr>\n",
       "      <th>7.4</th>\n",
       "      <td>0.000000</td>\n",
       "      <td>0.000000</td>\n",
       "    </tr>\n",
       "    <tr>\n",
       "      <th>7.6</th>\n",
       "      <td>0.000000</td>\n",
       "      <td>0.000000</td>\n",
       "    </tr>\n",
       "    <tr>\n",
       "      <th>8.6</th>\n",
       "      <td>1.623871</td>\n",
       "      <td>-0.406500</td>\n",
       "    </tr>\n",
       "    <tr>\n",
       "      <th>8.8</th>\n",
       "      <td>24.023971</td>\n",
       "      <td>-0.817419</td>\n",
       "    </tr>\n",
       "    <tr>\n",
       "      <th>8.9</th>\n",
       "      <td>18.834910</td>\n",
       "      <td>-0.815860</td>\n",
       "    </tr>\n",
       "    <tr>\n",
       "      <th>9.0</th>\n",
       "      <td>21.137272</td>\n",
       "      <td>-0.886016</td>\n",
       "    </tr>\n",
       "    <tr>\n",
       "      <th>9.1</th>\n",
       "      <td>24.799423</td>\n",
       "      <td>-0.799381</td>\n",
       "    </tr>\n",
       "  </tbody>\n",
       "</table>\n",
       "</div>"
      ],
      "text/plain": [
       "             0         1\n",
       "2.2   0.000000  0.000000\n",
       "5.9   0.000000  0.000000\n",
       "6.3   0.000000  0.000000\n",
       "6.5   0.000000  0.000000\n",
       "6.6   0.000000  0.000000\n",
       "6.7   0.000000  0.000000\n",
       "6.8   0.000000  0.000000\n",
       "6.9   0.000000  0.000000\n",
       "7.0   0.000000  0.000000\n",
       "7.1   0.000000  0.000000\n",
       "7.2   0.000000  0.000000\n",
       "7.3   0.000000  0.000000\n",
       "7.4   0.000000  0.000000\n",
       "7.6   0.000000  0.000000\n",
       "8.6   1.623871 -0.406500\n",
       "8.8  24.023971 -0.817419\n",
       "8.9  18.834910 -0.815860\n",
       "9.0  21.137272 -0.886016\n",
       "9.1  24.799423 -0.799381"
      ]
     },
     "execution_count": 8,
     "metadata": {},
     "output_type": "execute_result"
    }
   ],
   "source": [
    "df_q=pd.DataFrame(np.array((q_table)),index=dist_q)\n",
    "df_q"
   ]
  },
  {
   "cell_type": "code",
   "execution_count": 9,
   "metadata": {},
   "outputs": [],
   "source": [
    "## CUMULATIVE AVERAGE ##\n",
    "n=cum=avg=0\n",
    "avg_reward=[]\n",
    "for i in rewards_all_episodes:\n",
    "    n+=1\n",
    "    cum+=i\n",
    "    avg=cum/n\n",
    "    avg_reward.append(avg)"
   ]
  },
  {
   "cell_type": "code",
   "execution_count": 10,
   "metadata": {},
   "outputs": [
    {
     "data": {
      "text/html": [
       "<div>\n",
       "<style scoped>\n",
       "    .dataframe tbody tr th:only-of-type {\n",
       "        vertical-align: middle;\n",
       "    }\n",
       "\n",
       "    .dataframe tbody tr th {\n",
       "        vertical-align: top;\n",
       "    }\n",
       "\n",
       "    .dataframe thead th {\n",
       "        text-align: right;\n",
       "    }\n",
       "</style>\n",
       "<table border=\"1\" class=\"dataframe\">\n",
       "  <thead>\n",
       "    <tr style=\"text-align: right;\">\n",
       "      <th></th>\n",
       "      <th>Episode</th>\n",
       "      <th>Reward</th>\n",
       "      <th>avg_reward</th>\n",
       "      <th>Step</th>\n",
       "      <th>stop_distance</th>\n",
       "      <th>Explore</th>\n",
       "      <th>PCT_Explore</th>\n",
       "    </tr>\n",
       "  </thead>\n",
       "  <tbody>\n",
       "    <tr>\n",
       "      <th>0</th>\n",
       "      <td>0</td>\n",
       "      <td>0.00</td>\n",
       "      <td>0.000000</td>\n",
       "      <td>0</td>\n",
       "      <td>8.8</td>\n",
       "      <td>1.000000</td>\n",
       "      <td>inf</td>\n",
       "    </tr>\n",
       "    <tr>\n",
       "      <th>1</th>\n",
       "      <td>1</td>\n",
       "      <td>0.45</td>\n",
       "      <td>0.225000</td>\n",
       "      <td>1</td>\n",
       "      <td>2.2</td>\n",
       "      <td>0.990149</td>\n",
       "      <td>99.014934</td>\n",
       "    </tr>\n",
       "    <tr>\n",
       "      <th>2</th>\n",
       "      <td>2</td>\n",
       "      <td>-0.80</td>\n",
       "      <td>-0.116667</td>\n",
       "      <td>1</td>\n",
       "      <td>6.7</td>\n",
       "      <td>0.980397</td>\n",
       "      <td>98.039669</td>\n",
       "    </tr>\n",
       "    <tr>\n",
       "      <th>3</th>\n",
       "      <td>3</td>\n",
       "      <td>-0.80</td>\n",
       "      <td>-0.287500</td>\n",
       "      <td>1</td>\n",
       "      <td>6.7</td>\n",
       "      <td>0.970741</td>\n",
       "      <td>97.074108</td>\n",
       "    </tr>\n",
       "    <tr>\n",
       "      <th>4</th>\n",
       "      <td>4</td>\n",
       "      <td>-0.30</td>\n",
       "      <td>-0.290000</td>\n",
       "      <td>2</td>\n",
       "      <td>6.7</td>\n",
       "      <td>0.961182</td>\n",
       "      <td>48.059077</td>\n",
       "    </tr>\n",
       "    <tr>\n",
       "      <th>...</th>\n",
       "      <td>...</td>\n",
       "      <td>...</td>\n",
       "      <td>...</td>\n",
       "      <td>...</td>\n",
       "      <td>...</td>\n",
       "      <td>...</td>\n",
       "      <td>...</td>\n",
       "    </tr>\n",
       "    <tr>\n",
       "      <th>304</th>\n",
       "      <td>304</td>\n",
       "      <td>-0.80</td>\n",
       "      <td>2.600000</td>\n",
       "      <td>1</td>\n",
       "      <td>6.7</td>\n",
       "      <td>0.961182</td>\n",
       "      <td>96.118154</td>\n",
       "    </tr>\n",
       "    <tr>\n",
       "      <th>305</th>\n",
       "      <td>305</td>\n",
       "      <td>1.20</td>\n",
       "      <td>2.366667</td>\n",
       "      <td>5</td>\n",
       "      <td>6.7</td>\n",
       "      <td>0.951717</td>\n",
       "      <td>19.034343</td>\n",
       "    </tr>\n",
       "    <tr>\n",
       "      <th>306</th>\n",
       "      <td>306</td>\n",
       "      <td>1.20</td>\n",
       "      <td>2.200000</td>\n",
       "      <td>5</td>\n",
       "      <td>6.7</td>\n",
       "      <td>0.942347</td>\n",
       "      <td>18.846938</td>\n",
       "    </tr>\n",
       "    <tr>\n",
       "      <th>307</th>\n",
       "      <td>307</td>\n",
       "      <td>-0.30</td>\n",
       "      <td>1.887500</td>\n",
       "      <td>2</td>\n",
       "      <td>6.7</td>\n",
       "      <td>0.933070</td>\n",
       "      <td>46.653494</td>\n",
       "    </tr>\n",
       "    <tr>\n",
       "      <th>308</th>\n",
       "      <td>308</td>\n",
       "      <td>-0.80</td>\n",
       "      <td>1.588889</td>\n",
       "      <td>1</td>\n",
       "      <td>6.8</td>\n",
       "      <td>0.923885</td>\n",
       "      <td>92.388518</td>\n",
       "    </tr>\n",
       "  </tbody>\n",
       "</table>\n",
       "<p>309 rows × 7 columns</p>\n",
       "</div>"
      ],
      "text/plain": [
       "     Episode  Reward  avg_reward  Step  stop_distance   Explore  PCT_Explore\n",
       "0          0    0.00    0.000000     0            8.8  1.000000          inf\n",
       "1          1    0.45    0.225000     1            2.2  0.990149    99.014934\n",
       "2          2   -0.80   -0.116667     1            6.7  0.980397    98.039669\n",
       "3          3   -0.80   -0.287500     1            6.7  0.970741    97.074108\n",
       "4          4   -0.30   -0.290000     2            6.7  0.961182    48.059077\n",
       "..       ...     ...         ...   ...            ...       ...          ...\n",
       "304      304   -0.80    2.600000     1            6.7  0.961182    96.118154\n",
       "305      305    1.20    2.366667     5            6.7  0.951717    19.034343\n",
       "306      306    1.20    2.200000     5            6.7  0.942347    18.846938\n",
       "307      307   -0.30    1.887500     2            6.7  0.933070    46.653494\n",
       "308      308   -0.80    1.588889     1            6.8  0.923885    92.388518\n",
       "\n",
       "[309 rows x 7 columns]"
      ]
     },
     "execution_count": 10,
     "metadata": {},
     "output_type": "execute_result"
    }
   ],
   "source": [
    "df=pd.DataFrame({'Episode':Ep,'Reward':rewards_all_episodes,\\\n",
    "                 'avg_reward':avg_reward,'Step':Step,'stop_distance':Dist_stop,\\\n",
    "                'Explore':Explore,'PCT_Explore':np.array(Explore)/np.array(Step)*100})\n",
    "if load == True:\n",
    "    df=pd.concat([df_load,df],ignore_index=True)\n",
    "df"
   ]
  },
  {
   "cell_type": "code",
   "execution_count": 11,
   "metadata": {},
   "outputs": [
    {
     "data": {
      "text/html": [
       "<div>\n",
       "<style scoped>\n",
       "    .dataframe tbody tr th:only-of-type {\n",
       "        vertical-align: middle;\n",
       "    }\n",
       "\n",
       "    .dataframe tbody tr th {\n",
       "        vertical-align: top;\n",
       "    }\n",
       "\n",
       "    .dataframe thead th {\n",
       "        text-align: right;\n",
       "    }\n",
       "</style>\n",
       "<table border=\"1\" class=\"dataframe\">\n",
       "  <thead>\n",
       "    <tr style=\"text-align: right;\">\n",
       "      <th></th>\n",
       "      <th>Episode</th>\n",
       "      <th>Reward</th>\n",
       "      <th>avg_reward</th>\n",
       "      <th>Step</th>\n",
       "      <th>stop_distance</th>\n",
       "      <th>Explore</th>\n",
       "      <th>PCT_Explore</th>\n",
       "    </tr>\n",
       "  </thead>\n",
       "  <tbody>\n",
       "    <tr>\n",
       "      <th>count</th>\n",
       "      <td>309.000000</td>\n",
       "      <td>309.000000</td>\n",
       "      <td>309.000000</td>\n",
       "      <td>309.000000</td>\n",
       "      <td>309.000000</td>\n",
       "      <td>309.000000</td>\n",
       "      <td>309.000000</td>\n",
       "    </tr>\n",
       "    <tr>\n",
       "      <th>mean</th>\n",
       "      <td>154.000000</td>\n",
       "      <td>3.133657</td>\n",
       "      <td>1.024202</td>\n",
       "      <td>8.964401</td>\n",
       "      <td>6.915534</td>\n",
       "      <td>0.343675</td>\n",
       "      <td>inf</td>\n",
       "    </tr>\n",
       "    <tr>\n",
       "      <th>std</th>\n",
       "      <td>89.344838</td>\n",
       "      <td>6.660592</td>\n",
       "      <td>1.453999</td>\n",
       "      <td>13.227849</td>\n",
       "      <td>0.676136</td>\n",
       "      <td>0.274002</td>\n",
       "      <td>NaN</td>\n",
       "    </tr>\n",
       "    <tr>\n",
       "      <th>min</th>\n",
       "      <td>0.000000</td>\n",
       "      <td>-3.000000</td>\n",
       "      <td>-0.386364</td>\n",
       "      <td>0.000000</td>\n",
       "      <td>2.200000</td>\n",
       "      <td>0.059785</td>\n",
       "      <td>0.061301</td>\n",
       "    </tr>\n",
       "    <tr>\n",
       "      <th>25%</th>\n",
       "      <td>77.000000</td>\n",
       "      <td>-0.300000</td>\n",
       "      <td>-0.052667</td>\n",
       "      <td>2.000000</td>\n",
       "      <td>6.700000</td>\n",
       "      <td>0.117523</td>\n",
       "      <td>1.368455</td>\n",
       "    </tr>\n",
       "    <tr>\n",
       "      <th>50%</th>\n",
       "      <td>154.000000</td>\n",
       "      <td>0.700000</td>\n",
       "      <td>0.697134</td>\n",
       "      <td>4.000000</td>\n",
       "      <td>6.700000</td>\n",
       "      <td>0.242225</td>\n",
       "      <td>7.062879</td>\n",
       "    </tr>\n",
       "    <tr>\n",
       "      <th>75%</th>\n",
       "      <td>231.000000</td>\n",
       "      <td>3.700000</td>\n",
       "      <td>1.941630</td>\n",
       "      <td>10.000000</td>\n",
       "      <td>6.800000</td>\n",
       "      <td>0.511551</td>\n",
       "      <td>26.600975</td>\n",
       "    </tr>\n",
       "    <tr>\n",
       "      <th>max</th>\n",
       "      <td>308.000000</td>\n",
       "      <td>50.000000</td>\n",
       "      <td>15.700000</td>\n",
       "      <td>100.000000</td>\n",
       "      <td>12.600000</td>\n",
       "      <td>1.000000</td>\n",
       "      <td>inf</td>\n",
       "    </tr>\n",
       "  </tbody>\n",
       "</table>\n",
       "</div>"
      ],
      "text/plain": [
       "          Episode      Reward  avg_reward        Step  stop_distance  \\\n",
       "count  309.000000  309.000000  309.000000  309.000000     309.000000   \n",
       "mean   154.000000    3.133657    1.024202    8.964401       6.915534   \n",
       "std     89.344838    6.660592    1.453999   13.227849       0.676136   \n",
       "min      0.000000   -3.000000   -0.386364    0.000000       2.200000   \n",
       "25%     77.000000   -0.300000   -0.052667    2.000000       6.700000   \n",
       "50%    154.000000    0.700000    0.697134    4.000000       6.700000   \n",
       "75%    231.000000    3.700000    1.941630   10.000000       6.800000   \n",
       "max    308.000000   50.000000   15.700000  100.000000      12.600000   \n",
       "\n",
       "          Explore  PCT_Explore  \n",
       "count  309.000000   309.000000  \n",
       "mean     0.343675          inf  \n",
       "std      0.274002          NaN  \n",
       "min      0.059785     0.061301  \n",
       "25%      0.117523     1.368455  \n",
       "50%      0.242225     7.062879  \n",
       "75%      0.511551    26.600975  \n",
       "max      1.000000          inf  "
      ]
     },
     "execution_count": 11,
     "metadata": {},
     "output_type": "execute_result"
    }
   ],
   "source": [
    "df.describe()"
   ]
  },
  {
   "cell_type": "code",
   "execution_count": 12,
   "metadata": {},
   "outputs": [
    {
     "name": "stderr",
     "output_type": "stream",
     "text": [
      "C:\\Users\\nbhah\\Anaconda3\\lib\\site-packages\\plotnine\\layer.py:360: PlotnineWarning: stat_bin : Removed 5 rows containing non-finite values.\n",
      "  data = self.stat.compute_layer(data, params, layout)\n",
      "C:\\Users\\nbhah\\Anaconda3\\lib\\site-packages\\plotnine\\layer.py:452: PlotnineWarning: geom_histogram : Removed 2 rows containing missing values.\n",
      "  self.data = self.geom.handle_na(self.data)\n"
     ]
    },
    {
     "data": {
      "image/png": "[encoded data removed]",
      "text/plain": [
       "<Figure size 640x480 with 1 Axes>"
      ]
     },
     "metadata": {},
     "output_type": "display_data"
    },
    {
     "data": {
      "text/plain": [
       "<ggplot: (-9223371902361442486)>"
      ]
     },
     "execution_count": 12,
     "metadata": {},
     "output_type": "execute_result"
    }
   ],
   "source": [
    "ggplot(df,aes(x='Reward'))+\\\n",
    "geom_histogram(binwidth=0.5,fill='#48b6a3')+\\\n",
    "xlim(-10,30)"
   ]
  },
  {
   "cell_type": "code",
   "execution_count": 13,
   "metadata": {},
   "outputs": [
    {
     "name": "stderr",
     "output_type": "stream",
     "text": [
      "C:\\Users\\nbhah\\Anaconda3\\lib\\site-packages\\plotnine\\layer.py:452: PlotnineWarning: geom_point : Removed 35 rows containing missing values.\n",
      "  self.data = self.geom.handle_na(self.data)\n"
     ]
    },
    {
     "data": {
      "image/png": "[encoded data removed]",
      "text/plain": [
       "<Figure size 640x480 with 1 Axes>"
      ]
     },
     "metadata": {},
     "output_type": "display_data"
    },
    {
     "data": {
      "text/plain": [
       "<ggplot: (134527971862)>"
      ]
     },
     "execution_count": 13,
     "metadata": {},
     "output_type": "execute_result"
    }
   ],
   "source": [
    "ggplot(df, aes(x='Episode',y='Reward'))+ \\\n",
    "  geom_point(color=\"#F18F01\", size=0.2)+\\\n",
    "    geom_smooth(method=\"lm\", se=False, size=0.5, linetype=\"dashed\")+\\\n",
    "        ylim(-10,10)"
   ]
  },
  {
   "cell_type": "code",
   "execution_count": 14,
   "metadata": {},
   "outputs": [
    {
     "name": "stderr",
     "output_type": "stream",
     "text": [
      "C:\\Users\\nbhah\\Anaconda3\\lib\\site-packages\\plotnine\\stats\\smoothers.py:168: PlotnineWarning: Confidence intervals are not yet implementedfor lowess smoothings.\n",
      "  \"for lowess smoothings.\", PlotnineWarning)\n"
     ]
    },
    {
     "data": {
      "image/png": "[encoded data removed]",
      "text/plain": [
       "<Figure size 640x480 with 1 Axes>"
      ]
     },
     "metadata": {},
     "output_type": "display_data"
    },
    {
     "data": {
      "text/plain": [
       "<ggplot: (-9223371902326803796)>"
      ]
     },
     "execution_count": 14,
     "metadata": {},
     "output_type": "execute_result"
    }
   ],
   "source": [
    "ggplot(df, aes(x='Episode',y='Step'))+ \\\n",
    "    geom_line(size=0.05) +\\\n",
    "    stat_smooth(colour='blue', span=0.2)+\\\n",
    "        ylim(0,10)"
   ]
  },
  {
   "cell_type": "code",
   "execution_count": 15,
   "metadata": {},
   "outputs": [
    {
     "name": "stderr",
     "output_type": "stream",
     "text": [
      "C:\\Users\\nbhah\\Anaconda3\\lib\\site-packages\\plotnine\\layer.py:452: PlotnineWarning: geom_point : Removed 19 rows containing missing values.\n",
      "  self.data = self.geom.handle_na(self.data)\n"
     ]
    },
    {
     "data": {
      "image/png": "[encoded data removed]",
      "text/plain": [
       "<Figure size 640x480 with 1 Axes>"
      ]
     },
     "metadata": {},
     "output_type": "display_data"
    },
    {
     "data": {
      "text/plain": [
       "<ggplot: (134528377555)>"
      ]
     },
     "execution_count": 15,
     "metadata": {},
     "output_type": "execute_result"
    }
   ],
   "source": [
    "ggplot(df, aes(x='Episode',y='Step'))+ \\\n",
    "  geom_point(color=\"#F18F01\", size=0.2)+\\\n",
    "    geom_smooth(method=\"lm\", se=False, size=0.5, linetype=\"dashed\")+\\\n",
    "        ylim(0,30)"
   ]
  },
  {
   "cell_type": "code",
   "execution_count": 16,
   "metadata": {},
   "outputs": [
    {
     "data": {
      "image/png": "[encoded data removed]",
      "text/plain": [
       "<Figure size 640x480 with 1 Axes>"
      ]
     },
     "metadata": {},
     "output_type": "display_data"
    },
    {
     "data": {
      "text/plain": [
       "<ggplot: (-9223371902326461545)>"
      ]
     },
     "execution_count": 16,
     "metadata": {},
     "output_type": "execute_result"
    }
   ],
   "source": [
    "ggplot(df, aes(x='Episode',y='stop_distance'))+ \\\n",
    "  geom_line(size=0.1,color='mediumblue') +\\\n",
    "    geom_smooth(method=\"lm\",color='firebrick', se=False, size=0.5, linetype=\"dashed\")"
   ]
  },
  {
   "cell_type": "code",
   "execution_count": 17,
   "metadata": {},
   "outputs": [
    {
     "name": "stderr",
     "output_type": "stream",
     "text": [
      "C:\\Users\\nbhah\\Anaconda3\\lib\\site-packages\\plotnine\\stats\\smoothers.py:168: PlotnineWarning: Confidence intervals are not yet implementedfor lowess smoothings.\n",
      "  \"for lowess smoothings.\", PlotnineWarning)\n"
     ]
    },
    {
     "data": {
      "image/png": "[encoded data removed]",
      "text/plain": [
       "<Figure size 640x480 with 1 Axes>"
      ]
     },
     "metadata": {},
     "output_type": "display_data"
    },
    {
     "data": {
      "text/plain": [
       "<ggplot: (134528345194)>"
      ]
     },
     "execution_count": 17,
     "metadata": {},
     "output_type": "execute_result"
    }
   ],
   "source": [
    "ggplot(df, aes(x='Episode',y='PCT_Explore'))+ \\\n",
    "  geom_line(color='midnightblue',size=0.05) +\\\n",
    "    geom_point(color=\"orchid\", size=0.1)+\\\n",
    "    geom_smooth( size=1, linetype=\"dashed\")"
   ]
  },
  {
   "cell_type": "markdown",
   "metadata": {},
   "source": [
    "# Save data and q_table"
   ]
  },
  {
   "cell_type": "code",
   "execution_count": 18,
   "metadata": {},
   "outputs": [],
   "source": [
    "name='brake_test_1' ##INSERT FILE NAME\n",
    "file_path=\"DATA\\\\ \"\n",
    "df.to_csv(file_path+'{}.csv'.format(name))\n",
    "df_q.to_csv(file_path+'{}_q_table.csv'.format(name))"
   ]
  },
  {
   "cell_type": "code",
   "execution_count": 19,
   "metadata": {},
   "outputs": [],
   "source": [
    "close_carla()"
   ]
  },
  {
   "cell_type": "code",
   "execution_count": null,
   "metadata": {},
   "outputs": [],
   "source": []
  }
 ],
 "metadata": {
  "kernelspec": {
   "display_name": "Python 3",
   "language": "python",
   "name": "python3"
  },
  "language_info": {
   "codemirror_mode": {
    "name": "ipython",
    "version": 3
   },
   "file_extension": ".py",
   "mimetype": "text/x-python",
   "name": "python",
   "nbconvert_exporter": "python",
   "pygments_lexer": "ipython3",
   "version": "3.7.3"
  },
  "toc": {
   "base_numbering": 1,
   "nav_menu": {},
   "number_sections": true,
   "sideBar": true,
   "skip_h1_title": false,
   "title_cell": "KWY Contents",
   "title_sidebar": "KWY Contents",
   "toc_cell": false,
   "toc_position": {
    "height": "calc(100% - 180px)",
    "left": "10px",
    "top": "150px",
    "width": "165px"
   },
   "toc_section_display": true,
   "toc_window_display": true
  }
 },
 "nbformat": 4,
 "nbformat_minor": 4
}
